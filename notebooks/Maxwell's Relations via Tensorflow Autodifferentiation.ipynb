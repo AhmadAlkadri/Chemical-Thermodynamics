{
 "cells": [
  {
   "cell_type": "markdown",
   "metadata": {},
   "source": [
    "# Maxwell's Relations and the Thermodynamic Web\n",
    "## Derivatives computed using Google's Tensorflow"
   ]
  },
  {
   "cell_type": "markdown",
   "metadata": {},
   "source": [
    "## Theory"
   ]
  },
  {
   "cell_type": "markdown",
   "metadata": {},
   "source": [
    "Maxwell's relations follow directly from the equality of mixed partial derivatives and the fundamental relations in Thermodynamics. From the first law of Thermodynamics:  \n",
    "$$ dU = dQ - dW $$\n",
    "where $U$ is internal energy, $Q$ is heat flow into the system, and $dW$ is work done by the system. The second law states that:  \n",
    "$$ \\frac{dQ}{T} = dS $$\n",
    "where $S$ is entropy. If the only work done by the system is $PV$ work, then $dW = Pdv$, where $P$ is pressure and $V$ is specific volume. Hence, the first and second law combined is:\n",
    "$$ dU = TdS - PdV $$\n",
    "Or on a molar basses, in terms of intensive variables we have:\n",
    "$$ du = Tds - Pdv $$\n",
    "Recall that enthalpy, $h$, is defined as $h := u + Pv$. Taking the differential of this equation and subbing into the first and second law combined gives:\n",
    "$$ dh = Tds + vdP $$\n",
    "We can obtain similar equations for Gibb's free energy, $g := h - Ts$, and Helmholtz energy, $a := u - Ts$:\n",
    "$$ \\begin{align} dg &= -sdT + vdP \\\\ da &= -sdT - Pdv \\end{align} $$\n",
    "\n",
    "A fundamental grouping is a group of $3$ variables that show up next to the \"$d$\" in one of the fundamental equations shown above. For example, from $dh = Tds + vdP$, we have the fundamental grouping $(h,s,P)$. We can deduce a number of relations by taking first order partials in the fundamental equations above with respect to one variable in the fundamental grouping, and holding one of the other ones constant. For example,\n",
    "$$ \\begin{align}\n",
    "        \\left(\\frac{\\partial h}{\\partial s}\\right)_P &= T \\\\\n",
    "        \\left(\\frac{\\partial h}{\\partial P}\\right)_s &= v\n",
    "    \\end{align}$$\n",
    "Taking second order partials gives,\n",
    "$$ \\begin{align}\n",
    "        \\left(\\frac{\\partial^2 h}{\\partial P \\partial s}\\right) &= \\left(\\frac{\\partial T}{\\partial P}\\right)_s  \\\\\n",
    "        \\left(\\frac{\\partial^2 h}{\\partial s \\partial P}\\right) &= \\left(\\frac{\\partial v}{\\partial s}\\right)_P\n",
    "    \\end{align}$$\n",
    "But then since\n",
    "$$ \\left(\\frac{\\partial^2 h}{\\partial P \\partial s}\\right) = \\left(\\frac{\\partial^2 h}{\\partial s \\partial P}\\right) $$\n",
    "We have,\n",
    "$$ \\left(\\frac{\\partial T}{\\partial P}\\right)_s = \\left(\\frac{\\partial v}{\\partial s}\\right)_P $$\n",
    "A \"web\" of all of Maxwell's relations can be viewed [here](https://en.wikipedia.org/wiki/Maxwell_relations).\n",
    "\n",
    "In order to compute Maxwell's relations, an equation of state is needed. When combined with a model for $C_p$, the Thermodynamic Web shows that all thermodynamic properties of interest may be computed. While computing the derivatives by manually (and symbolically) is possible, this can become quite cumbersome for the more complex equations of state out there. We will show, using a relatively simple equation of state, how to accomplish this task using Google's Tensorflow."
   ]
  },
  {
   "cell_type": "markdown",
   "metadata": {},
   "source": [
    "## Tensorflow Test on the Peng-Robinson Equation of State"
   ]
  },
  {
   "cell_type": "code",
   "execution_count": null,
   "metadata": {
    "collapsed": true
   },
   "outputs": [],
   "source": []
  }
 ],
 "metadata": {
  "kernelspec": {
   "display_name": "Python 3",
   "language": "python",
   "name": "python3"
  },
  "language_info": {
   "codemirror_mode": {
    "name": "ipython",
    "version": 3
   },
   "file_extension": ".py",
   "mimetype": "text/x-python",
   "name": "python",
   "nbconvert_exporter": "python",
   "pygments_lexer": "ipython3",
   "version": "3.6.0"
  }
 },
 "nbformat": 4,
 "nbformat_minor": 2
}
